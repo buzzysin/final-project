{
 "cells": [
  {
   "cell_type": "markdown",
   "metadata": {},
   "source": [
    "# Image processing\n",
    "\n",
    "This notebook is supposed to aid the design of the image processing pipeline. It is not intended to be run as a script."
   ]
  }
 ],
 "metadata": {
  "kernelspec": {
   "display_name": "Python 3 (ipykernel)",
   "language": "python",
   "name": "python3"
  },
  "language_info": {
   "codemirror_mode": {
    "name": "ipython",
    "version": 3
   },
   "file_extension": ".py",
   "mimetype": "text/x-python",
   "name": "python",
   "nbconvert_exporter": "python",
   "pygments_lexer": "ipython3",
   "version": "3.11.1"
  },
  "vscode": {
   "interpreter": {
    "hash": "cf9dd50a52754349974ae74d3d39f72394d70f2cc470abc68872bdf74ac0f00d"
   }
  }
 },
 "nbformat": 4,
 "nbformat_minor": 2
}
